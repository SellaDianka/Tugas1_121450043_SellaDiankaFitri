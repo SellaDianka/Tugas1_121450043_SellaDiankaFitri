from functools import reduce
def encrypt_password(password):
ascii_values = [ord(char) for char in password]
encrypt_values = [(chr((value//26)+80), chr(value%26+80), '+' if value//26 > value%26 else '-') for value in ascii_value]
encrypted_password = reduce(lambda acc, val: acc + val[0] + val[1] + val[2], encrypted_values, '')
return encrypted_password
password = input("masukkan password: )
encrypted_password = encrypt_password(password)
print("password asli:", password)
print("password terenkripsi:", encrypted_password)
